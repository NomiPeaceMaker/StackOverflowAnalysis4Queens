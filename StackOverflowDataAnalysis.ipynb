{
  "nbformat": 4,
  "nbformat_minor": 0,
  "metadata": {
    "colab": {
      "name": "StackOverflowDataAnalysis.ipynb",
      "provenance": []
    },
    "kernelspec": {
      "name": "python3",
      "display_name": "Python 3"
    },
    "language_info": {
      "name": "python"
    }
  },
  "cells": [
    {
      "cell_type": "code",
      "execution_count": null,
      "metadata": {
        "id": "488RvwVkbPDt"
      },
      "outputs": [],
      "source": [
        "from google.cloud import bigquery"
      ]
    },
    {
      "cell_type": "markdown",
      "source": [
        "You're interested in understanding the behaviour of contributors on https://stackoverflow.com/ (SO). For this analysis, you first need to:\n",
        "1. obtain the SO posts, i.e., questions and their answers, for a given tag (e.g., “wordpress”) within a given time period (e.g., \"01/2021-06/2021\")\n",
        "2. extract for each post 5 important metrics (up to you to choose and motivate)\n",
        "3. generate a csv file with one line per post, where each line contains an identifier for a post and the values for the 5 chosen metrics\n",
        "\n",
        "Then, perform an initial analysis where you obtain the csv file for two tags (e.g., “wordpress” and “drupal”) within a 6-month period (e.g., \"01/2021-06/2021”). You should:\n",
        "1. generate plots to understand the differences in distribution of the 5 metrics between the posts of the two tags\n",
        "2. add an additional type of analysis that could provide better understanding of differences in behaviour between the posts of the two tags\n",
        "\n",
        "You can use any programming language, library, etc. that you desire. You just need to use a private GitHub repository to develop your code, tests, a README file explaining any design choices (e.g., the 5 metrics) and assumptions, the analyses used, as well as discussing the results of your analyses. Please also add the obtained csv files. Finally, don't forget to clearly comment the code and provide access to your GitHub repository to user \"bramadams\"."
      ],
      "metadata": {
        "id": "diaJPJZYbai5"
      }
    },
    {
      "cell_type": "markdown",
      "source": [
        ""
      ],
      "metadata": {
        "id": "0JTdRLG2bQWp"
      }
    },
    {
      "cell_type": "code",
      "source": [
        ""
      ],
      "metadata": {
        "id": "usOItRiDbnDv"
      },
      "execution_count": null,
      "outputs": []
    },
    {
      "cell_type": "markdown",
      "source": [
        "I am getting the posts from https://www.kaggle.com/stackoverflow/stackoverflow?select=posts_questions , and I will be selecting the most recent 50k posts for the 2 tags I have selected (reactjs and vuejs)."
      ],
      "metadata": {
        "id": "Uj81dIJSboDW"
      }
    }
  ]
}